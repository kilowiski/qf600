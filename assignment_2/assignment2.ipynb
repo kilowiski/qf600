{
 "cells": [
  {
   "cell_type": "code",
   "execution_count": 407,
   "id": "11e55164",
   "metadata": {
    "tags": []
   },
   "outputs": [],
   "source": [
    "import numpy as np\n",
    "import scipy as sp\n",
    "import pandas as pd\n",
    "import matplotlib.pyplot as plt\n",
    "import matplotlib.ticker as ticker  \n",
    "pd.set_option(\"display.precision\", 8)"
   ]
  },
  {
   "cell_type": "code",
   "execution_count": 408,
   "id": "2acbd698",
   "metadata": {},
   "outputs": [],
   "source": [
    "#we assume risk free rate remains stable at 0.13\n",
    "R_f = 0.13"
   ]
  },
  {
   "cell_type": "code",
   "execution_count": 409,
   "id": "ce07a1a2",
   "metadata": {
    "tags": [
     "hide-input"
    ]
   },
   "outputs": [
    {
     "name": "stderr",
     "output_type": "stream",
     "text": [
      "c:\\Users\\kilo\\anaconda3\\Lib\\site-packages\\openpyxl\\worksheet\\_read_only.py:79: UserWarning: Unknown extension is not supported and will be removed\n",
      "  for idx, row in parser.parse():\n",
      "c:\\Users\\kilo\\anaconda3\\Lib\\site-packages\\openpyxl\\worksheet\\_read_only.py:79: UserWarning: Unknown extension is not supported and will be removed\n",
      "  for idx, row in parser.parse():\n"
     ]
    }
   ],
   "source": [
    "#load data\n",
    "industry_portfolio_df = pd.read_excel('Industry_Portfolios.xlsx')\n",
    "industry_portfolio_df = industry_portfolio_df.drop(['Date'],axis =1)\n",
    "market_portfolio_df = pd.read_excel('Market_Portfolio.xlsx')\n",
    "market_portfolio_df = market_portfolio_df.drop(['Date'],axis =1)\n",
    "concated_df = pd.concat([industry_portfolio_df,market_portfolio_df],axis=1)\n",
    "concated_df_mean = concated_df.mean().to_numpy()\n",
    "concated_excess_df = concated_df - R_f"
   ]
  },
  {
   "cell_type": "code",
   "execution_count": 410,
   "id": "72e427c2",
   "metadata": {},
   "outputs": [],
   "source": [
    "# regression for market model\n",
    "market_model_result =[]\n",
    "for n,portfolio in enumerate(concated_excess_df.columns):\n",
    "    y = concated_excess_df[portfolio].to_numpy()\n",
    "    x = concated_excess_df['Market'].to_numpy()\n",
    "    market_model_result.append(np.polyfit(x,y,1)[::-1])"
   ]
  },
  {
   "cell_type": "code",
   "execution_count": 411,
   "id": "815ea6cb",
   "metadata": {},
   "outputs": [
    {
     "data": {
      "text/html": [
       "<div>\n",
       "<style scoped>\n",
       "    .dataframe tbody tr th:only-of-type {\n",
       "        vertical-align: middle;\n",
       "    }\n",
       "\n",
       "    .dataframe tbody tr th {\n",
       "        vertical-align: top;\n",
       "    }\n",
       "\n",
       "    .dataframe thead th {\n",
       "        text-align: right;\n",
       "    }\n",
       "</style>\n",
       "<table border=\"1\" class=\"dataframe\">\n",
       "  <thead>\n",
       "    <tr style=\"text-align: right;\">\n",
       "      <th></th>\n",
       "      <th>portfolio excess</th>\n",
       "      <th>y intercept</th>\n",
       "      <th>slope</th>\n",
       "    </tr>\n",
       "  </thead>\n",
       "  <tbody>\n",
       "    <tr>\n",
       "      <th>0</th>\n",
       "      <td>NoDur</td>\n",
       "      <td>0.36944288</td>\n",
       "      <td>0.65264736</td>\n",
       "    </tr>\n",
       "    <tr>\n",
       "      <th>1</th>\n",
       "      <td>Durbl</td>\n",
       "      <td>-0.41559908</td>\n",
       "      <td>1.64853565</td>\n",
       "    </tr>\n",
       "    <tr>\n",
       "      <th>2</th>\n",
       "      <td>Manuf</td>\n",
       "      <td>0.15977083</td>\n",
       "      <td>1.1698463</td>\n",
       "    </tr>\n",
       "    <tr>\n",
       "      <th>3</th>\n",
       "      <td>Enrgy</td>\n",
       "      <td>0.50171857</td>\n",
       "      <td>0.96984996</td>\n",
       "    </tr>\n",
       "    <tr>\n",
       "      <th>4</th>\n",
       "      <td>HiTec</td>\n",
       "      <td>-0.06401953</td>\n",
       "      <td>1.13296944</td>\n",
       "    </tr>\n",
       "    <tr>\n",
       "      <th>5</th>\n",
       "      <td>Telcm</td>\n",
       "      <td>0.19469093</td>\n",
       "      <td>0.90072925</td>\n",
       "    </tr>\n",
       "    <tr>\n",
       "      <th>6</th>\n",
       "      <td>Shops</td>\n",
       "      <td>0.27549215</td>\n",
       "      <td>0.8264924</td>\n",
       "    </tr>\n",
       "    <tr>\n",
       "      <th>7</th>\n",
       "      <td>Hlth</td>\n",
       "      <td>0.23784119</td>\n",
       "      <td>0.6730357</td>\n",
       "    </tr>\n",
       "    <tr>\n",
       "      <th>8</th>\n",
       "      <td>Utils</td>\n",
       "      <td>0.44458462</td>\n",
       "      <td>0.5380861</td>\n",
       "    </tr>\n",
       "    <tr>\n",
       "      <th>9</th>\n",
       "      <td>Other</td>\n",
       "      <td>-0.38713452</td>\n",
       "      <td>1.20730946</td>\n",
       "    </tr>\n",
       "    <tr>\n",
       "      <th>10</th>\n",
       "      <td>Market</td>\n",
       "      <td>-0.0</td>\n",
       "      <td>1.0</td>\n",
       "    </tr>\n",
       "  </tbody>\n",
       "</table>\n",
       "</div>"
      ],
      "text/plain": [
       "   portfolio excess y intercept       slope\n",
       "0             NoDur  0.36944288  0.65264736\n",
       "1             Durbl -0.41559908  1.64853565\n",
       "2             Manuf  0.15977083   1.1698463\n",
       "3             Enrgy  0.50171857  0.96984996\n",
       "4             HiTec -0.06401953  1.13296944\n",
       "5             Telcm  0.19469093  0.90072925\n",
       "6             Shops  0.27549215   0.8264924\n",
       "7              Hlth  0.23784119   0.6730357\n",
       "8             Utils  0.44458462   0.5380861\n",
       "9             Other -0.38713452  1.20730946\n",
       "10           Market        -0.0         1.0"
      ]
     },
     "execution_count": 411,
     "metadata": {},
     "output_type": "execute_result"
    }
   ],
   "source": [
    "# regression result output\n",
    "regression_result = np.column_stack((concated_excess_df.columns, market_model_result))\n",
    "regression_result_df = pd.DataFrame(regression_result)\\\n",
    "    .rename(columns={0:'portfolio excess',1:'y intercept',2:'slope'})\n",
    "regression_result_df"
   ]
  },
  {
   "cell_type": "markdown",
   "id": "6cc314bf",
   "metadata": {},
   "source": [
    "## SECURITY MARKET LINE ! ##"
   ]
  },
  {
   "cell_type": "code",
   "execution_count": 412,
   "id": "204366df",
   "metadata": {},
   "outputs": [
    {
     "data": {
      "text/html": [
       "<div>\n",
       "<style scoped>\n",
       "    .dataframe tbody tr th:only-of-type {\n",
       "        vertical-align: middle;\n",
       "    }\n",
       "\n",
       "    .dataframe tbody tr th {\n",
       "        vertical-align: top;\n",
       "    }\n",
       "\n",
       "    .dataframe thead th {\n",
       "        text-align: right;\n",
       "    }\n",
       "</style>\n",
       "<table border=\"1\" class=\"dataframe\">\n",
       "  <thead>\n",
       "    <tr style=\"text-align: right;\">\n",
       "      <th></th>\n",
       "      <th>portfolio name</th>\n",
       "      <th>estimated beta from regression</th>\n",
       "      <th>portfolio mean</th>\n",
       "    </tr>\n",
       "  </thead>\n",
       "  <tbody>\n",
       "    <tr>\n",
       "      <th>0</th>\n",
       "      <td>NoDur</td>\n",
       "      <td>0.65264736</td>\n",
       "      <td>0.90283333</td>\n",
       "    </tr>\n",
       "    <tr>\n",
       "      <th>1</th>\n",
       "      <td>Durbl</td>\n",
       "      <td>1.64853565</td>\n",
       "      <td>0.73333333</td>\n",
       "    </tr>\n",
       "    <tr>\n",
       "      <th>2</th>\n",
       "      <td>Manuf</td>\n",
       "      <td>1.1698463</td>\n",
       "      <td>1.01283333</td>\n",
       "    </tr>\n",
       "    <tr>\n",
       "      <th>3</th>\n",
       "      <td>Enrgy</td>\n",
       "      <td>0.96984996</td>\n",
       "      <td>1.23116667</td>\n",
       "    </tr>\n",
       "    <tr>\n",
       "      <th>4</th>\n",
       "      <td>HiTec</td>\n",
       "      <td>1.13296944</td>\n",
       "      <td>0.76625</td>\n",
       "    </tr>\n",
       "    <tr>\n",
       "      <th>5</th>\n",
       "      <td>Telcm</td>\n",
       "      <td>0.90072925</td>\n",
       "      <td>0.88141667</td>\n",
       "    </tr>\n",
       "    <tr>\n",
       "      <th>6</th>\n",
       "      <td>Shops</td>\n",
       "      <td>0.8264924</td>\n",
       "      <td>0.91633333</td>\n",
       "    </tr>\n",
       "    <tr>\n",
       "      <th>7</th>\n",
       "      <td>Hlth</td>\n",
       "      <td>0.6730357</td>\n",
       "      <td>0.78383333</td>\n",
       "    </tr>\n",
       "    <tr>\n",
       "      <th>8</th>\n",
       "      <td>Utils</td>\n",
       "      <td>0.5380861</td>\n",
       "      <td>0.90716667</td>\n",
       "    </tr>\n",
       "    <tr>\n",
       "      <th>9</th>\n",
       "      <td>Other</td>\n",
       "      <td>1.20730946</td>\n",
       "      <td>0.48908333</td>\n",
       "    </tr>\n",
       "    <tr>\n",
       "      <th>10</th>\n",
       "      <td>Market</td>\n",
       "      <td>1.0</td>\n",
       "      <td>0.74808333</td>\n",
       "    </tr>\n",
       "  </tbody>\n",
       "</table>\n",
       "</div>"
      ],
      "text/plain": [
       "   portfolio name estimated beta from regression portfolio mean\n",
       "0           NoDur                     0.65264736     0.90283333\n",
       "1           Durbl                     1.64853565     0.73333333\n",
       "2           Manuf                      1.1698463     1.01283333\n",
       "3           Enrgy                     0.96984996     1.23116667\n",
       "4           HiTec                     1.13296944        0.76625\n",
       "5           Telcm                     0.90072925     0.88141667\n",
       "6           Shops                      0.8264924     0.91633333\n",
       "7            Hlth                      0.6730357     0.78383333\n",
       "8           Utils                      0.5380861     0.90716667\n",
       "9           Other                     1.20730946     0.48908333\n",
       "10         Market                            1.0     0.74808333"
      ]
     },
     "execution_count": 412,
     "metadata": {},
     "output_type": "execute_result"
    }
   ],
   "source": [
    "#prepare data for security market line\n",
    "sml_data = np.column_stack((concated_excess_df.columns,\\\n",
    "                            regression_result_df['slope'].to_numpy(),\\\n",
    "                            concated_df.mean().to_numpy() ))\n",
    "sml_data_df = pd.DataFrame(sml_data).rename(columns={0:'portfolio name',1:'estimated beta from regression',2:'portfolio mean'})\n",
    "sml_data_df"
   ]
  },
  {
   "cell_type": "code",
   "execution_count": 413,
   "id": "50ad247e",
   "metadata": {},
   "outputs": [],
   "source": [
    "# regression for SML\n",
    "sml_x = list(sml_data_df['estimated beta from regression'].to_numpy())\n",
    "sml_y = list(sml_data_df['portfolio mean'].to_numpy())\n",
    "sml_result = np.polyfit(sml_x,sml_y,1)\n",
    "sml_slope = sml_result[0]\n",
    "sml_intercept = sml_result[1]"
   ]
  },
  {
   "cell_type": "code",
   "execution_count": 414,
   "id": "991a1f73",
   "metadata": {},
   "outputs": [],
   "source": [
    "#create y points for SML graph plotting\n",
    "possible_beta  = np.arange(0,2.01,0.01)\n",
    "sml_return = []\n",
    "for x in possible_beta:\n",
    "    y = sml_intercept + sml_slope * x\n",
    "    sml_return.append(y)"
   ]
  },
  {
   "cell_type": "code",
   "execution_count": 419,
   "metadata": {},
   "outputs": [
    {
     "name": "stderr",
     "output_type": "stream",
     "text": [
      "No artists with labels found to put in legend.  Note that artists whose label start with an underscore are ignored when legend() is called with no argument.\n"
     ]
    },
    {
     "data": {
      "image/png": "[encoded data removed]",
      "text/plain": [
       "<Figure size 1500x800 with 1 Axes>"
      ]
     },
     "metadata": {},
     "output_type": "display_data"
    }
   ],
   "source": [
    "f1,ax1 = plt.subplots(1,figsize=(15, 8))\n",
    "#ax1.set(xlim=(0,2), ylim=(0,1.5), aspect='equal')\n",
    "ax1.plot(possible_beta,sml_return )\n",
    "ax1.legend()\n",
    "ax1.xaxis.set_major_locator(plt.MultipleLocator(0.25))\n",
    "ax1.yaxis.set_major_locator(plt.MultipleLocator(0.10))\n",
    "ax1.set(xlim=(0,2),ylim=(0.3,1.3))\n",
    "ax1.set_xlabel('Beta')\n",
    "ax1.set_ylabel('Mean Monthly Returns')\n",
    "ax1.set_title('SML Graph based on Industry_Portfolios.xlsx and Market_Portfolio.xlsx')\n",
    "\n",
    "for port_x,port_y,label in list(zip(sml_x,sml_y,sml_label)) :\n",
    "    ax1.scatter(port_x, port_y)\n",
    "plt.show(f1)\n",
    "f1.savefig('sml.jpg')"
   ]
  },
  {
   "cell_type": "code",
   "execution_count": null,
   "id": "a7486e1a",
   "metadata": {},
   "outputs": [],
   "source": [
    "#fun experiment, lets do multiple subplots !\n",
    "plt.figure(figsize=(30, 20))\n",
    "for n,portfolio in enumerate(concated_excess_df.columns):\n",
    "    #add new subplots\n",
    "    ax = plt.subplot(4,3,n+1)\n",
    "    ax.scatter(concated_excess_df[portfolio],concated_excess_df['Market'])\n",
    "    # chart formatting\n",
    "    ax.set_title(portfolio.upper())\n",
    "    ax.set_xlabel(\"\")\n",
    "    #ax.set_xlim(xmin=0)\n",
    "    #ax.set_ylim(ymin=0)\n",
    "    ax.set(xlim=(-15,15), ylim=(-15,15), aspect='equal')\n",
    "\n",
    "    # Set bottom and left spines as x and y axes of coordinate system\n",
    "    ax.spines['bottom'].set_position('zero')\n",
    "    ax.spines['left'].set_position('zero')\n",
    "    # Remove top and right spines\n",
    "    ax.spines['top'].set_visible(False)\n",
    "    ax.spines['right'].set_visible(False)"
   ]
  }
 ],
 "metadata": {
  "kernelspec": {
   "display_name": "Python 3 (ipykernel)",
   "language": "python",
   "name": "python3"
  },
  "language_info": {
   "codemirror_mode": {
    "name": "ipython",
    "version": 3
   },
   "file_extension": ".py",
   "mimetype": "text/x-python",
   "name": "python",
   "nbconvert_exporter": "python",
   "pygments_lexer": "ipython3",
   "version": "3.11.3"
  }
 },
 "nbformat": 4,
 "nbformat_minor": 5
}
