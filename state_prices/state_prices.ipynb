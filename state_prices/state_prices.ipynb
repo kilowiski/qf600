{
 "cells": [
  {
   "cell_type": "markdown",
   "metadata": {},
   "source": [
    "## Binomial Model (Slide 9-12) #\n",
    "Consider a binomial model with 2 states of nature : **Up (U) and Down (D)**\n",
    "* Risky stock has initial price of S, which can either rise to uS\n",
    "or drop to dS, where $u > d$ (this is from QF620)\n",
    "* Riskless bond has initial price of $P_f = {R_f}^{-1}$ where $u > R_f > d $\n",
    "* Recall : Riskless bond  is something that gives a return $X_f$ = 1 **regardless of state** at time = $T$, so the return is 1 over the price of the bond , i.e. $R_f = {P_f}^{-1}$\n",
    "$$\n",
    "\\mathbf{P} =\n",
    "\\begin{bmatrix}\n",
    "S\\\\\n",
    "P_f\n",
    "\\end{bmatrix}\n",
    ",\n",
    "\\mathbf{X} =\n",
    "\\begin{bmatrix}\n",
    "uS  &   1\\\\\n",
    "ds  &   1\\\\\n",
    "\\end{bmatrix}\n",
    "$$\n",
    "\n",
    "We can the construct the following :\n",
    "1. Vector of state prices\n",
    "$$\n",
    "\\begin{bmatrix}\n",
    "p_u  & p_d\n",
    "\\end{bmatrix} =\n",
    "\\mathbf{P}^\\intercal \\mathbf{X}^{-1}\n",
    "$$\n",
    "\n",
    "2. Vector of risk neutral probabilities\n",
    "$$\n",
    "\\begin{bmatrix}\n",
    "\\hat{\\pi_u}  & \\hat{\\pi_d} \n",
    "\\end{bmatrix} =\n",
    "R_f \\begin{bmatrix}\n",
    "p_u  & p_d\n",
    "\\end{bmatrix}\n",
    "$$\n",
    "\n",
    "3. Pricing formula for a portfolio that delivers $Y_u$ and $Y_d$\n",
    "$$\n",
    "\\mathbf{Y} =\n",
    "\\begin{bmatrix}\n",
    "Y_u  \\\\ Y_d \n",
    "\\end{bmatrix}\\\\\n",
    "$$\n",
    "$$\n",
    "P_Y = \\begin{bmatrix}\n",
    "p_u  & p_d\n",
    "\\end{bmatrix}\\begin{bmatrix}\n",
    "Y_u  \\\\ Y_d \n",
    "\\end{bmatrix}\n",
    "=\n",
    "\\frac{1}{R_f}\n",
    "\\begin{bmatrix}\n",
    "\\hat{\\pi_u}  & \\hat{\\pi_d} \n",
    "\\end{bmatrix}\n",
    "\\begin{bmatrix}\n",
    "Y_u  \\\\ Y_d \n",
    "\\end{bmatrix}\n",
    "$$\n",
    "\n",
    "Economic significance of #3 : Pricing using the risk-free measure will also work in real life because it is using state pricing in disguise. \n",
    "\n",
    "Recall from QF620, in case of binomial model, under risk-free measure, the expected value of stock at time $t+1$ should equal stock price at time $t$. \n",
    "$$"
   ]
  },
  {
   "cell_type": "code",
   "execution_count": 9,
   "metadata": {},
   "outputs": [],
   "source": [
    "import numpy as np"
   ]
  },
  {
   "cell_type": "code",
   "execution_count": 2,
   "metadata": {},
   "outputs": [],
   "source": [
    "# lets use values given by slides\n",
    "def binomial_model(S: int, Rf: int, X_stock):\n",
    "    \"\"\"\n",
    "    Binomial model\n",
    "\n",
    "    Args:\n",
    "        S (int): This is the stock price\n",
    "        Rf (int): Risk free return (1+rf), NOT risk free rate\n",
    "        X_stock (_type_): This is the payoff matrix for stock\n",
    "    Returns:\n",
    "        X : the payoff vector\n",
    "        state_p: state prices vector\n",
    "        risk_neutral_prob: risk neutral probability vector\n",
    "    \"\"\"\n",
    "    X = np.column_stack((X_stock, [1, 1]))\n",
    "    P = np.array([S, 1 / Rf])\n",
    "    state_prices = np.dot(P, np.linalg.inv(X))\n",
    "    risk_neutral_prob = Rf * state_prices\n",
    "    return X, state_prices, risk_neutral_prob\n",
    "\n",
    "\n",
    "def risky_payoff(S: int, *args):\n",
    "    \"\"\"\n",
    "    Use this if you want to generate risky payoff with u & d\n",
    "\n",
    "    Args:\n",
    "        S (int): This is the stock price\n",
    "        *args :\n",
    "            args[0] = u\n",
    "            args[1] = d, if not specified the d = 1/u\n",
    "    \"\"\"\n",
    "    if len(args) == 1:\n",
    "        u = args[0]\n",
    "        d = 1 / u\n",
    "\n",
    "    elif len(args) == 2:\n",
    "        u = args[0]\n",
    "        d = args[1]\n",
    "    else:\n",
    "        print(\"no args provided or more than 2 provided\")\n",
    "        return\n",
    "    print(f\"{u} and {d}\")\n",
    "    return np.array([u * S, d * S])"
   ]
  },
  {
   "cell_type": "code",
   "execution_count": 13,
   "metadata": {},
   "outputs": [
    {
     "name": "stdout",
     "output_type": "stream",
     "text": [
      "1.6666666666666667 and 0.6\n"
     ]
    },
    {
     "data": {
      "text/plain": [
       "(array([[10. ,  1. ],\n",
       "        [ 3.6,  1. ]]),\n",
       " array([0.40178571, 0.55059524]),\n",
       " array([0.421875, 0.578125]))"
      ]
     },
     "execution_count": 13,
     "metadata": {},
     "output_type": "execute_result"
    }
   ],
   "source": [
    "stock_payoff = risky_payoff(6, 5.0 / 3.0)\n",
    "binomial_model(6, 1.05, stock_payoff)"
   ]
  },
  {
   "cell_type": "code",
   "execution_count": 27,
   "metadata": {},
   "outputs": [
    {
     "data": {
      "text/plain": [
       "6.0"
      ]
     },
     "execution_count": 27,
     "metadata": {},
     "output_type": "execute_result"
    }
   ],
   "source": [
    "# test if correct, discounted expected final payoff should equal initial stock price under risk-free measure\n",
    "payoff_final = (binomial_model(6, 1.05, stock_payoff)[0][:, 0],)\n",
    "risk_free = binomial_model(6, 1.05, stock_payoff)[2]\n",
    "(payoff_final * risk_free).sum() / 1.05"
   ]
  },
  {
   "cell_type": "markdown",
   "metadata": {},
   "source": [
    "## State Prices Practice Problem ##"
   ]
  },
  {
   "cell_type": "code",
   "execution_count": 4,
   "metadata": {},
   "outputs": [],
   "source": [
    "# Risk free return\n",
    "Rf = 1.1\n",
    "Pf = 1 / Rf\n",
    "\n",
    "# stock price array = [P_A, P_B]\n",
    "S = np.array([45, 45])\n",
    "\n",
    "# sorted by [GOOD, NORMAL, BAD]\n",
    "phys_prob = np.array([0.3, 0.5, 0.2])\n",
    "X_A = np.array([75, 55, 20])\n",
    "X_B = np.array([60, 50, 40])\n",
    "X_RF = np.ones((len(phys_prob), 1))\n",
    "\n",
    "# construct payoff, i put the risk free at the end\n",
    "X = np.column_stack((X_A, X_B, X_RF))\n",
    "\n",
    "# construct price, i also put the risk free at the end\n",
    "P = np.append(S, Pf)"
   ]
  },
  {
   "cell_type": "code",
   "execution_count": 5,
   "metadata": {},
   "outputs": [],
   "source": [
    "state_prices = np.dot(P, np.linalg.inv(X))\n",
    "risk_neutral_prob = Rf * state_prices"
   ]
  },
  {
   "cell_type": "markdown",
   "metadata": {},
   "source": [
    "Call option to buy one share of Stock A and one share of Stock B for 100"
   ]
  },
  {
   "cell_type": "code",
   "execution_count": 6,
   "metadata": {},
   "outputs": [],
   "source": [
    "strike_price = 100"
   ]
  },
  {
   "cell_type": "code",
   "execution_count": 7,
   "metadata": {},
   "outputs": [],
   "source": [
    "def option_payoff(x):\n",
    "    if x < 0:\n",
    "        return 0\n",
    "    else:\n",
    "        return x"
   ]
  },
  {
   "cell_type": "code",
   "execution_count": 8,
   "metadata": {},
   "outputs": [
    {
     "data": {
      "text/plain": [
       "10.000000000000028"
      ]
     },
     "execution_count": 8,
     "metadata": {},
     "output_type": "execute_result"
    }
   ],
   "source": [
    "vec_call_payoff = np.vectorize(option_payoff)\n",
    "# final payoff vec\n",
    "call_payoff = vec_call_payoff(X_A + X_B - strike_price)\n",
    "# init price\n",
    "call_price = np.dot(state_prices, call_payoff)\n",
    "call_price"
   ]
  },
  {
   "cell_type": "markdown",
   "metadata": {},
   "source": []
  }
 ],
 "metadata": {
  "kernelspec": {
   "display_name": "Python 3",
   "language": "python",
   "name": "python3"
  },
  "language_info": {
   "codemirror_mode": {
    "name": "ipython",
    "version": 3
   },
   "file_extension": ".py",
   "mimetype": "text/x-python",
   "name": "python",
   "nbconvert_exporter": "python",
   "pygments_lexer": "ipython3",
   "version": "3.11.3"
  }
 },
 "nbformat": 4,
 "nbformat_minor": 2
}
