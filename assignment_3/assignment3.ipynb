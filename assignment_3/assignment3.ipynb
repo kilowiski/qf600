{
 "cells": [
  {
   "cell_type": "code",
   "execution_count": 588,
   "id": "11e55164",
   "metadata": {
    "tags": []
   },
   "outputs": [],
   "source": [
    "import numpy as np\n",
    "import scipy as sp\n",
    "import pandas as pd\n",
    "import matplotlib.pyplot as plt\n",
    "import matplotlib.ticker as ticker  \n",
    "from sklearn import linear_model\n",
    "import statsmodels.api as sm\n",
    "\n",
    "pd.set_option(\"display.precision\", 8)"
   ]
  },
  {
   "cell_type": "code",
   "execution_count": 589,
   "id": "2acbd698",
   "metadata": {},
   "outputs": [],
   "source": [
    "#we assume risk free rate remains stable at 0.13\n",
    "#R_f = 0.13\n",
    "#we can no longer assume"
   ]
  },
  {
   "cell_type": "code",
   "execution_count": 590,
   "id": "ce07a1a2",
   "metadata": {
    "tags": [
     "hide-input"
    ]
   },
   "outputs": [
    {
     "name": "stderr",
     "output_type": "stream",
     "text": [
      "c:\\Users\\kilo\\anaconda3\\Lib\\site-packages\\openpyxl\\worksheet\\_read_only.py:79: UserWarning: Unknown extension is not supported and will be removed\n",
      "  for idx, row in parser.parse():\n",
      "c:\\Users\\kilo\\anaconda3\\Lib\\site-packages\\openpyxl\\worksheet\\_read_only.py:79: UserWarning: Unknown extension is not supported and will be removed\n",
      "  for idx, row in parser.parse():\n",
      "c:\\Users\\kilo\\anaconda3\\Lib\\site-packages\\openpyxl\\worksheet\\_read_only.py:79: UserWarning: Unknown extension is not supported and will be removed\n",
      "  for idx, row in parser.parse():\n"
     ]
    }
   ],
   "source": [
    "#load data\n",
    "industry_portfolio_df = pd.read_excel('Industry_Portfolios.xlsx')\n",
    "market_portfolio_df = pd.read_excel('Market_Portfolio.xlsx')\n",
    "risk_factors_df = pd.read_excel('Risk_Factors.xlsx')\n"
   ]
  },
  {
   "cell_type": "code",
   "execution_count": 591,
   "id": "fa8a1b35",
   "metadata": {},
   "outputs": [],
   "source": [
    "# use merge for join inner i guess\n",
    "concated_df = industry_portfolio_df\\\n",
    "            .merge(market_portfolio_df, on ='Date', how='inner')\n",
    "concated_df = concated_df\\\n",
    "            .merge(risk_factors_df, on ='Date', how='inner')\n"
   ]
  },
  {
   "cell_type": "code",
   "execution_count": 594,
   "id": "76d5d711",
   "metadata": {},
   "outputs": [],
   "source": [
    "portfolio_cols = concated_df.columns[1:12]\n"
   ]
  },
  {
   "cell_type": "code",
   "execution_count": 596,
   "id": "acb8b34a",
   "metadata": {},
   "outputs": [],
   "source": [
    "excess_risk_df  = pd.DataFrame()\n",
    "for x in portfolio_cols:\n",
    "    excess_risk_df[f'{x}_excess']=concated_df[x] - concated_df['Rf']\n",
    "#excess_risk_df"
   ]
  },
  {
   "cell_type": "code",
   "execution_count": 597,
   "id": "06f4ab82",
   "metadata": {},
   "outputs": [],
   "source": [
    "excess_cols = excess_risk_df.columns"
   ]
  },
  {
   "cell_type": "code",
   "execution_count": 598,
   "id": "be263629",
   "metadata": {},
   "outputs": [],
   "source": [
    "concated_df = pd.concat([concated_df, excess_risk_df], axis=1 )"
   ]
  },
  {
   "cell_type": "code",
   "execution_count": 599,
   "id": "6db8c984",
   "metadata": {},
   "outputs": [],
   "source": [
    "sharpe = excess_risk_df.mean().to_numpy() / np.sqrt(excess_risk_df.var().to_numpy())"
   ]
  },
  {
   "cell_type": "code",
   "execution_count": 600,
   "id": "72e427c2",
   "metadata": {},
   "outputs": [],
   "source": [
    "# regression for market model\n",
    "market_model_result =[]\n",
    "x = excess_risk_df['Market_excess'].to_numpy()\n",
    "for portfolio in excess_cols:\n",
    "    #print(portfolio)\n",
    "    y = excess_risk_df[portfolio].to_numpy()\n",
    "    market_model_result.append(np.polyfit(x,y,1)[::-1])"
   ]
  },
  {
   "cell_type": "code",
   "execution_count": 601,
   "id": "9d0a0b14",
   "metadata": {},
   "outputs": [],
   "source": [
    "market_model_result_intercept = []\n",
    "market_model_result_slope = []\n",
    "for x in market_model_result:\n",
    "    market_model_result_intercept.append(x[0])\n",
    "    market_model_result_slope.append(x[1])\n",
    "market_model_result_intercept =np.array(market_model_result_intercept)\n",
    "market_model_result_slope = np.array(market_model_result_slope)"
   ]
  },
  {
   "cell_type": "code",
   "execution_count": 602,
   "metadata": {},
   "outputs": [],
   "source": [
    "treynor = excess_risk_df.mean().to_numpy() / market_model_result_slope"
   ]
  },
  {
   "cell_type": "code",
   "execution_count": 603,
   "id": "06f3d105",
   "metadata": {},
   "outputs": [],
   "source": [
    "jensen_alpha = excess_risk_df.mean().to_numpy() - excess_risk_df['Market_excess'].mean() * market_model_result_slope \n",
    "jensen_alpha = ['{:f}'.format(item) for item in jensen_alpha]"
   ]
  },
  {
   "cell_type": "code",
   "execution_count": 604,
   "id": "00afdc19",
   "metadata": {},
   "outputs": [],
   "source": [
    "downside_df = excess_risk_df.mask(excess_risk_df > 0, 0, inplace=False)\n",
    "semivariance = (downside_df**2).mean()"
   ]
  },
  {
   "cell_type": "code",
   "execution_count": 605,
   "id": "50553422",
   "metadata": {},
   "outputs": [
    {
     "data": {
      "text/plain": [
       "array([0.35080415, 0.11196656, 0.24125968, 0.27361162, 0.17062042,\n",
       "       0.24493997, 0.29303152, 0.27029392, 0.29004357, 0.08735095,\n",
       "       0.20247518])"
      ]
     },
     "execution_count": 605,
     "metadata": {},
     "output_type": "execute_result"
    }
   ],
   "source": [
    "sortino = excess_risk_df.mean().to_numpy() / np.sqrt(semivariance).to_numpy()\n",
    "sortino"
   ]
  },
  {
   "cell_type": "code",
   "execution_count": 606,
   "id": "43e5bf75",
   "metadata": {},
   "outputs": [],
   "source": [
    "# regression for three factor alpha\n",
    "market_factor = concated_df['Rm-Rf']\n",
    "size_factor = concated_df['SMB']\n",
    "value_factor = concated_df['HML']\n",
    "x = pd.concat([market_factor, size_factor, value_factor] , axis =  1 )\n"
   ]
  },
  {
   "cell_type": "code",
   "execution_count": 607,
   "id": "21ae537c",
   "metadata": {},
   "outputs": [
    {
     "data": {
      "text/plain": [
       "array([ 3.86704486e-01, -4.74341829e-01,  1.53284594e-01,  5.23006987e-01,\n",
       "       -6.59794239e-02,  2.00724023e-01,  2.55941067e-01,  2.57472322e-01,\n",
       "        4.74410582e-01, -4.04411529e-01, -2.22044605e-16])"
      ]
     },
     "execution_count": 607,
     "metadata": {},
     "output_type": "execute_result"
    }
   ],
   "source": [
    "three_factor_alpha = []\n",
    "for port in excess_risk_df.columns:\n",
    "    regr = linear_model.LinearRegression()\n",
    "    y = excess_risk_df[port]\n",
    "    regr.fit(x, y)\n",
    "    three_factor_alpha.append(regr.intercept_)\n",
    "three_factor_alpha = np.array(three_factor_alpha)\n",
    "three_factor_alpha"
   ]
  },
  {
   "cell_type": "code",
   "execution_count": 608,
   "id": "bcf89d21",
   "metadata": {},
   "outputs": [
    {
     "name": "stderr",
     "output_type": "stream",
     "text": [
      "C:\\Users\\kilo\\AppData\\Local\\Temp\\ipykernel_9344\\4122361675.py:3: FutureWarning: DataFrame.set_axis 'inplace' keyword is deprecated and will be removed in a future version. Use `obj = obj.set_axis(..., copy=False)` instead\n",
      "  result.set_axis(['industry','sharpe', 'sortino', 'treynor', 'jensen_alpha', 'three_factor_alpha'], axis=\"columns\", inplace=True)\n"
     ]
    },
    {
     "data": {
      "text/html": [
       "<div>\n",
       "<style scoped>\n",
       "    .dataframe tbody tr th:only-of-type {\n",
       "        vertical-align: middle;\n",
       "    }\n",
       "\n",
       "    .dataframe tbody tr th {\n",
       "        vertical-align: top;\n",
       "    }\n",
       "\n",
       "    .dataframe thead th {\n",
       "        text-align: right;\n",
       "    }\n",
       "</style>\n",
       "<table border=\"1\" class=\"dataframe\">\n",
       "  <thead>\n",
       "    <tr style=\"text-align: right;\">\n",
       "      <th></th>\n",
       "      <th>industry</th>\n",
       "      <th>sharpe</th>\n",
       "      <th>sortino</th>\n",
       "      <th>treynor</th>\n",
       "      <th>jensen_alpha</th>\n",
       "      <th>three_factor_alpha</th>\n",
       "    </tr>\n",
       "  </thead>\n",
       "  <tbody>\n",
       "    <tr>\n",
       "      <th>0</th>\n",
       "      <td>NoDur</td>\n",
       "      <td>0.23109876</td>\n",
       "      <td>0.35080415</td>\n",
       "      <td>1.18637224</td>\n",
       "      <td>0.369717</td>\n",
       "      <td>0.38670449</td>\n",
       "    </tr>\n",
       "    <tr>\n",
       "      <th>1</th>\n",
       "      <td>Durbl</td>\n",
       "      <td>0.07235564</td>\n",
       "      <td>0.11196656</td>\n",
       "      <td>0.3674626</td>\n",
       "      <td>-0.417903</td>\n",
       "      <td>-0.47434183</td>\n",
       "    </tr>\n",
       "    <tr>\n",
       "      <th>2</th>\n",
       "      <td>Manuf</td>\n",
       "      <td>0.16661646</td>\n",
       "      <td>0.24125968</td>\n",
       "      <td>0.75825124</td>\n",
       "      <td>0.160494</td>\n",
       "      <td>0.15328459</td>\n",
       "    </tr>\n",
       "    <tr>\n",
       "      <th>3</th>\n",
       "      <td>Enrgy</td>\n",
       "      <td>0.18170846</td>\n",
       "      <td>0.27361162</td>\n",
       "      <td>1.14333039</td>\n",
       "      <td>0.504485</td>\n",
       "      <td>0.52300699</td>\n",
       "    </tr>\n",
       "    <tr>\n",
       "      <th>4</th>\n",
       "      <td>HiTec</td>\n",
       "      <td>0.11855247</td>\n",
       "      <td>0.17062042</td>\n",
       "      <td>0.56429472</td>\n",
       "      <td>-0.064024</td>\n",
       "      <td>-0.06597942</td>\n",
       "    </tr>\n",
       "    <tr>\n",
       "      <th>5</th>\n",
       "      <td>Telcm</td>\n",
       "      <td>0.16906437</td>\n",
       "      <td>0.24493997</td>\n",
       "      <td>0.83636337</td>\n",
       "      <td>0.194348</td>\n",
       "      <td>0.20072402</td>\n",
       "    </tr>\n",
       "    <tr>\n",
       "      <th>6</th>\n",
       "      <td>Shops</td>\n",
       "      <td>0.19175336</td>\n",
       "      <td>0.29303152</td>\n",
       "      <td>0.95125831</td>\n",
       "      <td>0.274093</td>\n",
       "      <td>0.25594107</td>\n",
       "    </tr>\n",
       "    <tr>\n",
       "      <th>7</th>\n",
       "      <td>Hlth</td>\n",
       "      <td>0.17252946</td>\n",
       "      <td>0.27029392</td>\n",
       "      <td>0.97143469</td>\n",
       "      <td>0.236968</td>\n",
       "      <td>0.25747232</td>\n",
       "    </tr>\n",
       "    <tr>\n",
       "      <th>8</th>\n",
       "      <td>Utils</td>\n",
       "      <td>0.21094773</td>\n",
       "      <td>0.29004357</td>\n",
       "      <td>1.45233366</td>\n",
       "      <td>0.446523</td>\n",
       "      <td>0.47441058</td>\n",
       "    </tr>\n",
       "    <tr>\n",
       "      <th>9</th>\n",
       "      <td>Other</td>\n",
       "      <td>0.06469292</td>\n",
       "      <td>0.08735095</td>\n",
       "      <td>0.29978096</td>\n",
       "      <td>-0.387508</td>\n",
       "      <td>-0.40441153</td>\n",
       "    </tr>\n",
       "    <tr>\n",
       "      <th>10</th>\n",
       "      <td>Market</td>\n",
       "      <td>0.14265813</td>\n",
       "      <td>0.20247518</td>\n",
       "      <td>0.62083333</td>\n",
       "      <td>0.000000</td>\n",
       "      <td>-0.0</td>\n",
       "    </tr>\n",
       "  </tbody>\n",
       "</table>\n",
       "</div>"
      ],
      "text/plain": [
       "   industry      sharpe     sortino     treynor jensen_alpha  \\\n",
       "0     NoDur  0.23109876  0.35080415  1.18637224     0.369717   \n",
       "1     Durbl  0.07235564  0.11196656   0.3674626    -0.417903   \n",
       "2     Manuf  0.16661646  0.24125968  0.75825124     0.160494   \n",
       "3     Enrgy  0.18170846  0.27361162  1.14333039     0.504485   \n",
       "4     HiTec  0.11855247  0.17062042  0.56429472    -0.064024   \n",
       "5     Telcm  0.16906437  0.24493997  0.83636337     0.194348   \n",
       "6     Shops  0.19175336  0.29303152  0.95125831     0.274093   \n",
       "7      Hlth  0.17252946  0.27029392  0.97143469     0.236968   \n",
       "8     Utils  0.21094773  0.29004357  1.45233366     0.446523   \n",
       "9     Other  0.06469292  0.08735095  0.29978096    -0.387508   \n",
       "10   Market  0.14265813  0.20247518  0.62083333     0.000000   \n",
       "\n",
       "   three_factor_alpha  \n",
       "0          0.38670449  \n",
       "1         -0.47434183  \n",
       "2          0.15328459  \n",
       "3          0.52300699  \n",
       "4         -0.06597942  \n",
       "5          0.20072402  \n",
       "6          0.25594107  \n",
       "7          0.25747232  \n",
       "8          0.47441058  \n",
       "9         -0.40441153  \n",
       "10               -0.0  "
      ]
     },
     "execution_count": 608,
     "metadata": {},
     "output_type": "execute_result"
    }
   ],
   "source": [
    "result = pd.DataFrame([sharpe, sortino, treynor, jensen_alpha, three_factor_alpha]).T\n",
    "result = pd.concat([pd.DataFrame(portfolio_cols) , result], axis=1)\n",
    "result.set_axis(['industry','sharpe', 'sortino', 'treynor', 'jensen_alpha', 'three_factor_alpha'], axis=\"columns\", inplace=True)\n",
    "result"
   ]
  },
  {
   "cell_type": "code",
   "execution_count": null,
   "id": "a8412b18",
   "metadata": {},
   "outputs": [],
   "source": []
  },
  {
   "cell_type": "code",
   "execution_count": null,
   "id": "9aba540f",
   "metadata": {},
   "outputs": [],
   "source": []
  },
  {
   "cell_type": "code",
   "execution_count": null,
   "id": "c4c2e1cf",
   "metadata": {},
   "outputs": [],
   "source": []
  }
 ],
 "metadata": {
  "kernelspec": {
   "display_name": "Python 3 (ipykernel)",
   "language": "python",
   "name": "python3"
  },
  "language_info": {
   "codemirror_mode": {
    "name": "ipython",
    "version": 3
   },
   "file_extension": ".py",
   "mimetype": "text/x-python",
   "name": "python",
   "nbconvert_exporter": "python",
   "pygments_lexer": "ipython3",
   "version": "3.11.3"
  }
 },
 "nbformat": 4,
 "nbformat_minor": 5
}
