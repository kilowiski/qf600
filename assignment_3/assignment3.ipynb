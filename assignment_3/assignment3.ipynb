{
 "cells": [
  {
   "cell_type": "code",
   "execution_count": 407,
   "id": "11e55164",
   "metadata": {
    "tags": []
   },
   "outputs": [],
   "source": [
    "import numpy as np\n",
    "import scipy as sp\n",
    "import pandas as pd\n",
    "import matplotlib.pyplot as plt\n",
    "import matplotlib.ticker as ticker  \n",
    "pd.set_option(\"display.precision\", 8)"
   ]
  },
  {
   "cell_type": "code",
   "execution_count": 408,
   "id": "2acbd698",
   "metadata": {},
   "outputs": [],
   "source": [
    "#we assume risk free rate remains stable at 0.13\n",
    "R_f = 0.13"
   ]
  },
  {
   "cell_type": "code",
   "execution_count": 409,
   "id": "ce07a1a2",
   "metadata": {
    "tags": [
     "hide-input"
    ]
   },
   "outputs": [
    {
     "name": "stderr",
     "output_type": "stream",
     "text": [
      "c:\\Users\\kilo\\anaconda3\\Lib\\site-packages\\openpyxl\\worksheet\\_read_only.py:79: UserWarning: Unknown extension is not supported and will be removed\n",
      "  for idx, row in parser.parse():\n",
      "c:\\Users\\kilo\\anaconda3\\Lib\\site-packages\\openpyxl\\worksheet\\_read_only.py:79: UserWarning: Unknown extension is not supported and will be removed\n",
      "  for idx, row in parser.parse():\n"
     ]
    }
   ],
   "source": [
    "#load data\n",
    "industry_portfolio_df = pd.read_excel('Industry_Portfolios.xlsx')\n",
    "industry_portfolio_df = industry_portfolio_df.drop(['Date'],axis =1)\n",
    "market_portfolio_df = pd.read_excel('Market_Portfolio.xlsx')\n",
    "market_portfolio_df = market_portfolio_df.drop(['Date'],axis =1)\n",
    "concated_df = pd.concat([industry_portfolio_df,market_portfolio_df],axis=1)\n",
    "concated_df_mean = concated_df.mean().to_numpy()\n",
    "concated_excess_df = concated_df - R_f"
   ]
  },
  {
   "cell_type": "code",
   "execution_count": 410,
   "id": "72e427c2",
   "metadata": {},
   "outputs": [],
   "source": [
    "# regression for market model\n",
    "market_model_result =[]\n",
    "for n,portfolio in enumerate(concated_excess_df.columns):\n",
    "    y = concated_excess_df[portfolio].to_numpy()\n",
    "    x = concated_excess_df['Market'].to_numpy()\n",
    "    market_model_result.append(np.polyfit(x,y,1)[::-1])"
   ]
  },
  {
   "cell_type": "code",
   "execution_count": 430,
   "id": "815ea6cb",
   "metadata": {},
   "outputs": [
    {
     "name": "stdout",
     "output_type": "stream",
     "text": [
      "\\begin{tabular}{lll}\n",
      "\\toprule\n",
      "portfolio name & y intercept &   slope \\\\\n",
      "\\midrule\n",
      "         NoDur &     0.36944 & 0.65265 \\\\\n",
      "         Durbl &    -0.41560 & 1.64854 \\\\\n",
      "         Manuf &     0.15977 & 1.16985 \\\\\n",
      "         Enrgy &     0.50172 & 0.96985 \\\\\n",
      "         HiTec &    -0.06402 & 1.13297 \\\\\n",
      "         Telcm &     0.19469 & 0.90073 \\\\\n",
      "         Shops &     0.27549 & 0.82649 \\\\\n",
      "          Hlth &     0.23784 & 0.67304 \\\\\n",
      "         Utils &     0.44458 & 0.53809 \\\\\n",
      "         Other &    -0.38713 & 1.20731 \\\\\n",
      "        Market &    -0.00000 & 1.00000 \\\\\n",
      "\\bottomrule\n",
      "\\end{tabular}\n",
      "\n"
     ]
    },
    {
     "name": "stderr",
     "output_type": "stream",
     "text": [
      "C:\\Users\\kilo\\AppData\\Local\\Temp\\ipykernel_12808\\3501419658.py:6: FutureWarning: In future versions `DataFrame.to_latex` is expected to utilise the base implementation of `Styler.to_latex` for formatting and rendering. The arguments signature may therefore change. It is recommended instead to use `DataFrame.style.to_latex` which also contains additional functionality.\n",
      "  print(regression_result_df.to_latex(index=False,\n"
     ]
    }
   ],
   "source": [
    "# regression result output\n",
    "regression_result = np.column_stack((concated_excess_df.columns, market_model_result))\n",
    "regression_result_df = pd.DataFrame(regression_result)\\\n",
    "    .rename(columns={0:'portfolio name',1:'y intercept',2:'slope'})\n",
    "regression_result_df\n",
    "print(regression_result_df.to_latex(index=False,\n",
    "                  float_format=\"{:.5f}\".format,\n",
    "))"
   ]
  },
  {
   "cell_type": "markdown",
   "id": "6cc314bf",
   "metadata": {},
   "source": [
    "## SECURITY MARKET LINE ! ##"
   ]
  },
  {
   "cell_type": "code",
   "execution_count": 431,
   "id": "204366df",
   "metadata": {},
   "outputs": [
    {
     "name": "stdout",
     "output_type": "stream",
     "text": [
      "\\begin{tabular}{lll}\n",
      "\\toprule\n",
      "portfolio name & estimated beta from regression & portfolio mean \\\\\n",
      "\\midrule\n",
      "         NoDur &                        0.65265 &        0.90283 \\\\\n",
      "         Durbl &                        1.64854 &        0.73333 \\\\\n",
      "         Manuf &                        1.16985 &        1.01283 \\\\\n",
      "         Enrgy &                        0.96985 &        1.23117 \\\\\n",
      "         HiTec &                        1.13297 &        0.76625 \\\\\n",
      "         Telcm &                        0.90073 &        0.88142 \\\\\n",
      "         Shops &                        0.82649 &        0.91633 \\\\\n",
      "          Hlth &                        0.67304 &        0.78383 \\\\\n",
      "         Utils &                        0.53809 &        0.90717 \\\\\n",
      "         Other &                        1.20731 &        0.48908 \\\\\n",
      "        Market &                        1.00000 &        0.74808 \\\\\n",
      "\\bottomrule\n",
      "\\end{tabular}\n",
      "\n"
     ]
    },
    {
     "name": "stderr",
     "output_type": "stream",
     "text": [
      "C:\\Users\\kilo\\AppData\\Local\\Temp\\ipykernel_12808\\4151561814.py:7: FutureWarning: In future versions `DataFrame.to_latex` is expected to utilise the base implementation of `Styler.to_latex` for formatting and rendering. The arguments signature may therefore change. It is recommended instead to use `DataFrame.style.to_latex` which also contains additional functionality.\n",
      "  print(sml_data_df.to_latex(index=False,\n"
     ]
    }
   ],
   "source": [
    "#prepare data for security market line\n",
    "sml_data = np.column_stack((concated_excess_df.columns,\\\n",
    "                            regression_result_df['slope'].to_numpy(),\\\n",
    "                            concated_df.mean().to_numpy() ))\n",
    "sml_data_df = pd.DataFrame(sml_data).rename(columns={0:'portfolio name',1:'estimated beta from regression',2:'portfolio mean'})\n",
    "sml_data_df\n",
    "print(sml_data_df.to_latex(index=False,\n",
    "                  float_format=\"{:.5f}\".format,\n",
    "))"
   ]
  },
  {
   "cell_type": "code",
   "execution_count": 440,
   "id": "50ad247e",
   "metadata": {},
   "outputs": [
    {
     "name": "stdout",
     "output_type": "stream",
     "text": [
      "[0.652647355963541, 1.648535649966647, 1.1698462964148781, 0.9698499564640055, 1.1329694391423129, 0.9007292509476117, 0.8264924015201599, 0.6730356956329144, 0.5380861001316399, 1.2073094586151105, 1.0000000000000002]\n",
      "[0.652647355963541, 1.648535649966647, 1.1698462964148781, 0.9698499564640055, 1.1329694391423129, 0.9007292509476117, 0.8264924015201599, 0.6730356956329144, 0.5380861001316399, 1.2073094586151105]\n"
     ]
    }
   ],
   "source": [
    "# regression for SML\n",
    "sml_x = list(sml_data_df['estimated beta from regression'].to_numpy())\n",
    "sml_y = list(sml_data_df['portfolio mean'].to_numpy())\n",
    "sml_result = np.polyfit(sml_x,sml_y,1)\n",
    "sml_slope = sml_result[0]\n",
    "sml_intercept = sml_result[1]\n",
    "print(sml_x)\n",
    "print(sml_x[0:-1])"
   ]
  },
  {
   "cell_type": "code",
   "execution_count": 459,
   "id": "af110863",
   "metadata": {},
   "outputs": [
    {
     "name": "stdout",
     "output_type": "stream",
     "text": [
      "sml intercept = 1.0327683682657058\n",
      "sml slope = -0.18546745836573278\n"
     ]
    }
   ],
   "source": [
    "print(f'sml intercept = {sml_intercept}')\n",
    "print(f'sml slope = {sml_slope}')"
   ]
  },
  {
   "cell_type": "code",
   "execution_count": 414,
   "id": "991a1f73",
   "metadata": {},
   "outputs": [],
   "source": [
    "#create y points for SML graph plotting\n",
    "possible_beta  = np.arange(0,2.01,0.01)\n",
    "sml_return = []\n",
    "for x in possible_beta:\n",
    "    y = sml_intercept + sml_slope * x\n",
    "    sml_return.append(y)"
   ]
  },
  {
   "cell_type": "code",
   "execution_count": 462,
   "metadata": {},
   "outputs": [
    {
     "data": {
      "image/png": "[encoded data removed]",
      "text/plain": [
       "<Figure size 800x500 with 1 Axes>"
      ]
     },
     "metadata": {},
     "output_type": "display_data"
    }
   ],
   "source": [
    "f1,ax1 = plt.subplots(1,figsize=(8, 5))\n",
    "#ax1.set(xlim=(0,2), ylim=(0,1.5), aspect='equal')\n",
    "ax1.plot(possible_beta,sml_return,label='SML')\n",
    "ax1.xaxis.set_major_locator(plt.MultipleLocator(0.25))\n",
    "ax1.yaxis.set_major_locator(plt.MultipleLocator(0.10))\n",
    "ax1.set(xlim=(0,2),ylim=(0.3,1.3))\n",
    "ax1.set_xlabel('Beta')\n",
    "ax1.set_ylabel('Mean Monthly Returns (%)')\n",
    "ax1.set_title(r'SML Regression Graph ${\\beta}$ vs Mean Monthly Return')\n",
    "#for port_x,port_y,label in list(zip(,,sml_label)) :\n",
    "ax1.scatter(sml_x, sml_y,label='industry & market portfolios',color='red')\n",
    "ax1.legend(loc='lower left')\n",
    "\n",
    "plt.show(f1)\n",
    "f1.savefig('sml.jpg')"
   ]
  },
  {
   "cell_type": "code",
   "execution_count": null,
   "id": "a7486e1a",
   "metadata": {},
   "outputs": [],
   "source": [
    "#fun experiment, lets do multiple subplots !\n",
    "plt.figure(figsize=(30, 20))\n",
    "for n,portfolio in enumerate(concated_excess_df.columns):\n",
    "    #add new subplots\n",
    "    ax = plt.subplot(4,3,n+1)\n",
    "    ax.scatter(concated_excess_df[portfolio],concated_excess_df['Market'])\n",
    "    # chart formatting\n",
    "    ax.set_title(portfolio.upper())\n",
    "    ax.set_xlabel(\"\")\n",
    "    #ax.set_xlim(xmin=0)\n",
    "    #ax.set_ylim(ymin=0)\n",
    "    ax.set(xlim=(-15,15), ylim=(-15,15), aspect='equal')\n",
    "\n",
    "    # Set bottom and left spines as x and y axes of coordinate system\n",
    "    ax.spines['bottom'].set_position('zero')\n",
    "    ax.spines['left'].set_position('zero')\n",
    "    # Remove top and right spines\n",
    "    ax.spines['top'].set_visible(False)\n",
    "    ax.spines['right'].set_visible(False)"
   ]
  }
 ],
 "metadata": {
  "kernelspec": {
   "display_name": "Python 3 (ipykernel)",
   "language": "python",
   "name": "python3"
  },
  "language_info": {
   "codemirror_mode": {
    "name": "ipython",
    "version": 3
   },
   "file_extension": ".py",
   "mimetype": "text/x-python",
   "name": "python",
   "nbconvert_exporter": "python",
   "pygments_lexer": "ipython3",
   "version": "3.11.3"
  }
 },
 "nbformat": 4,
 "nbformat_minor": 5
}
