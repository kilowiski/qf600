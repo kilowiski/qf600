{
 "cells": [
  {
   "cell_type": "code",
   "execution_count": 347,
   "id": "11e55164",
   "metadata": {
    "tags": []
   },
   "outputs": [],
   "source": [
    "import numpy as np\n",
    "import scipy as sp\n",
    "import pandas as pd\n",
    "import matplotlib.pyplot as plt\n",
    "import matplotlib.ticker as ticker  \n",
    "from sklearn import linear_model\n",
    "import statsmodels.api as sm\n",
    "\n",
    "pd.set_option(\"display.precision\", 8)"
   ]
  },
  {
   "cell_type": "code",
   "execution_count": 348,
   "id": "2acbd698",
   "metadata": {},
   "outputs": [],
   "source": [
    "#we assume risk free rate remains stable at 0.13\n",
    "#R_f = 0.13\n",
    "#we can no longer assume"
   ]
  },
  {
   "cell_type": "code",
   "execution_count": 320,
   "id": "ce07a1a2",
   "metadata": {
    "tags": [
     "hide-input"
    ]
   },
   "outputs": [
    {
     "name": "stderr",
     "output_type": "stream",
     "text": [
      "c:\\Users\\kilo\\anaconda3\\Lib\\site-packages\\openpyxl\\worksheet\\_read_only.py:79: UserWarning: Unknown extension is not supported and will be removed\n",
      "  for idx, row in parser.parse():\n",
      "c:\\Users\\kilo\\anaconda3\\Lib\\site-packages\\openpyxl\\worksheet\\_read_only.py:79: UserWarning: Unknown extension is not supported and will be removed\n",
      "  for idx, row in parser.parse():\n",
      "c:\\Users\\kilo\\anaconda3\\Lib\\site-packages\\openpyxl\\worksheet\\_read_only.py:79: UserWarning: Unknown extension is not supported and will be removed\n",
      "  for idx, row in parser.parse():\n"
     ]
    }
   ],
   "source": [
    "#load data\n",
    "industry_portfolio_df = pd.read_excel('Industry_Portfolios.xlsx')\n",
    "market_portfolio_df = pd.read_excel('Market_Portfolio.xlsx')\n",
    "risk_factors_df = pd.read_excel('Risk_Factors.xlsx')\n"
   ]
  },
  {
   "cell_type": "code",
   "execution_count": 321,
   "id": "fa8a1b35",
   "metadata": {},
   "outputs": [],
   "source": [
    "# use merge for join inner i guess\n",
    "concated_df = industry_portfolio_df\\\n",
    "            .merge(market_portfolio_df, on ='Date', how='inner')\n",
    "concated_df = concated_df\\\n",
    "            .merge(risk_factors_df, on ='Date', how='inner')\n",
    "#concated_df"
   ]
  },
  {
   "cell_type": "code",
   "execution_count": 367,
   "id": "76d5d711",
   "metadata": {},
   "outputs": [
    {
     "data": {
      "text/plain": [
       "Index(['NoDur', 'Durbl', 'Manuf', 'Enrgy', 'HiTec', 'Telcm', 'Shops', 'Hlth',\n",
       "       'Utils', 'Other', 'Market'],\n",
       "      dtype='object')"
      ]
     },
     "execution_count": 367,
     "metadata": {},
     "output_type": "execute_result"
    }
   ],
   "source": [
    "portfolio_cols = concated_df.columns[1:12]\n",
    "portfolio_cols"
   ]
  },
  {
   "cell_type": "code",
   "execution_count": 323,
   "id": "c1362175",
   "metadata": {},
   "outputs": [],
   "source": [
    "#concated_no_date_df= concated_df.drop(['Date'],axis =1)"
   ]
  },
  {
   "cell_type": "code",
   "execution_count": 324,
   "id": "acb8b34a",
   "metadata": {},
   "outputs": [],
   "source": [
    "excess_risk_df  = pd.DataFrame()\n",
    "for x in portfolio_cols:\n",
    "    excess_risk_df[f'{x}_excess']=concated_df[x] - concated_df['Rf']\n",
    "#excess_risk_df"
   ]
  },
  {
   "cell_type": "code",
   "execution_count": 394,
   "id": "be263629",
   "metadata": {},
   "outputs": [],
   "source": [
    "concated_df = pd.concat([concated_df, excess_risk_df], axis=1 )"
   ]
  },
  {
   "cell_type": "code",
   "execution_count": 392,
   "id": "6db8c984",
   "metadata": {},
   "outputs": [],
   "source": [
    "sharpe = excess_risk_df.mean().to_numpy() / np.sqrt(excess_risk_df.var().to_numpy())"
   ]
  },
  {
   "cell_type": "code",
   "execution_count": 391,
   "id": "72e427c2",
   "metadata": {},
   "outputs": [],
   "source": [
    "# regression for market model\n",
    "market_model_result =[]\n",
    "for portfolio in portfolio_cols:\n",
    "    #print(portfolio)\n",
    "    y = concated_df[portfolio].to_numpy()\n",
    "    x = concated_df['Market'].to_numpy()\n",
    "    market_model_result.append(np.polyfit(x,y,1)[::-1])"
   ]
  },
  {
   "cell_type": "code",
   "execution_count": 428,
   "id": "9d0a0b14",
   "metadata": {},
   "outputs": [],
   "source": [
    "market_model_result_intercept = []\n",
    "market_model_result_slope = []\n",
    "for x in market_model_result:\n",
    "    market_model_result_intercept.append(x[0])\n",
    "    market_model_result_slope.append(x[1])\n",
    "market_model_result_intercept =np.array(market_model_result_intercept)\n",
    "market_model_result_slope = np.array(market_model_result_slope)"
   ]
  },
  {
   "cell_type": "code",
   "execution_count": 429,
   "metadata": {},
   "outputs": [
    {
     "data": {
      "text/plain": [
       "array([1.18836509, 0.36764952, 0.75700828, 1.13823449, 0.56400462,\n",
       "       0.83728453, 0.95473755, 0.97555499, 1.44942727, 0.29970223,\n",
       "       0.62083333])"
      ]
     },
     "execution_count": 429,
     "metadata": {},
     "output_type": "execute_result"
    }
   ],
   "source": [
    "treynor = excess_risk_df.mean().to_numpy() / market_model_result_slope\n",
    "treynor"
   ]
  },
  {
   "cell_type": "code",
   "execution_count": 433,
   "id": "06f3d105",
   "metadata": {},
   "outputs": [
    {
     "data": {
      "text/plain": [
       "['0.370398',\n",
       " '-0.417383',\n",
       " '0.159304',\n",
       " '0.501801',\n",
       " '-0.064385',\n",
       " '0.194964',\n",
       " '0.275969',\n",
       " '0.238740',\n",
       " '0.445855',\n",
       " '-0.387705',\n",
       " '-0.000000']"
      ]
     },
     "execution_count": 433,
     "metadata": {},
     "output_type": "execute_result"
    }
   ],
   "source": [
    "jensen_alpha = excess_risk_df.mean().to_numpy() - excess_risk_df['Market_excess'].mean() * market_model_result_slope \n",
    "jensen_alpha = ['{:f}'.format(item) for item in jensen_alpha]\n",
    "jensen_alpha"
   ]
  },
  {
   "cell_type": "code",
   "execution_count": 434,
   "id": "00afdc19",
   "metadata": {},
   "outputs": [],
   "source": [
    "downside_df = excess_risk_df.where(excess_risk_df > 0, 0, inplace=False)\n",
    "semivariance = (downside_df**2).mean()\n",
    "#semivariance"
   ]
  },
  {
   "cell_type": "code",
   "execution_count": 435,
   "id": "a2a6f63f",
   "metadata": {},
   "outputs": [
    {
     "data": {
      "text/plain": [
       "array([0.29562588, 0.09506544, 0.2262164 , 0.23784943, 0.16394142,\n",
       "       0.22925482, 0.24750601, 0.22018023, 0.29619862, 0.09672374,\n",
       "       0.19867397])"
      ]
     },
     "execution_count": 435,
     "metadata": {},
     "output_type": "execute_result"
    }
   ],
   "source": [
    "sortino = excess_risk_df.mean().to_numpy()/ (np.sqrt(semivariance)).to_numpy()\n",
    "sortino"
   ]
  },
  {
   "cell_type": "code",
   "execution_count": 436,
   "id": "43e5bf75",
   "metadata": {},
   "outputs": [],
   "source": [
    "# regression for three factor alpha\n",
    "market_factor = concated_df['Market']\n",
    "size_factor = concated_df['SMB']\n",
    "value_factor = concated_df['HML']\n",
    "x = pd.concat([market_factor, size_factor, value_factor] , axis =  1 )\n"
   ]
  },
  {
   "cell_type": "code",
   "execution_count": 437,
   "id": "86cab794",
   "metadata": {},
   "outputs": [
    {
     "data": {
      "text/html": [
       "<div>\n",
       "<style scoped>\n",
       "    .dataframe tbody tr th:only-of-type {\n",
       "        vertical-align: middle;\n",
       "    }\n",
       "\n",
       "    .dataframe tbody tr th {\n",
       "        vertical-align: top;\n",
       "    }\n",
       "\n",
       "    .dataframe thead th {\n",
       "        text-align: right;\n",
       "    }\n",
       "</style>\n",
       "<table border=\"1\" class=\"dataframe\">\n",
       "  <thead>\n",
       "    <tr style=\"text-align: right;\">\n",
       "      <th></th>\n",
       "      <th>NoDur_excess</th>\n",
       "      <th>Durbl_excess</th>\n",
       "      <th>Manuf_excess</th>\n",
       "      <th>Enrgy_excess</th>\n",
       "      <th>HiTec_excess</th>\n",
       "      <th>Telcm_excess</th>\n",
       "      <th>Shops_excess</th>\n",
       "      <th>Hlth_excess</th>\n",
       "      <th>Utils_excess</th>\n",
       "      <th>Other_excess</th>\n",
       "      <th>Market_excess</th>\n",
       "    </tr>\n",
       "  </thead>\n",
       "  <tbody>\n",
       "    <tr>\n",
       "      <th>0</th>\n",
       "      <td>-0.01</td>\n",
       "      <td>-1.14</td>\n",
       "      <td>-0.69</td>\n",
       "      <td>0.37</td>\n",
       "      <td>4.46</td>\n",
       "      <td>1.34</td>\n",
       "      <td>0.38</td>\n",
       "      <td>3.02</td>\n",
       "      <td>1.85</td>\n",
       "      <td>2.81</td>\n",
       "      <td>2.15</td>\n",
       "    </tr>\n",
       "    <tr>\n",
       "      <th>1</th>\n",
       "      <td>4.19</td>\n",
       "      <td>-0.13</td>\n",
       "      <td>1.89</td>\n",
       "      <td>4.63</td>\n",
       "      <td>-2.98</td>\n",
       "      <td>-0.58</td>\n",
       "      <td>6.03</td>\n",
       "      <td>0.83</td>\n",
       "      <td>2.01</td>\n",
       "      <td>2.10</td>\n",
       "      <td>1.40</td>\n",
       "    </tr>\n",
       "    <tr>\n",
       "      <th>2</th>\n",
       "      <td>-0.18</td>\n",
       "      <td>-1.24</td>\n",
       "      <td>-0.36</td>\n",
       "      <td>-0.22</td>\n",
       "      <td>-2.64</td>\n",
       "      <td>-2.16</td>\n",
       "      <td>0.20</td>\n",
       "      <td>-4.05</td>\n",
       "      <td>1.04</td>\n",
       "      <td>-0.72</td>\n",
       "      <td>-1.32</td>\n",
       "    </tr>\n",
       "    <tr>\n",
       "      <th>3</th>\n",
       "      <td>1.34</td>\n",
       "      <td>2.22</td>\n",
       "      <td>-0.25</td>\n",
       "      <td>2.44</td>\n",
       "      <td>-4.99</td>\n",
       "      <td>-0.56</td>\n",
       "      <td>-2.78</td>\n",
       "      <td>3.46</td>\n",
       "      <td>-3.63</td>\n",
       "      <td>-3.84</td>\n",
       "      <td>-1.83</td>\n",
       "    </tr>\n",
       "    <tr>\n",
       "      <th>4</th>\n",
       "      <td>-1.95</td>\n",
       "      <td>-1.70</td>\n",
       "      <td>1.55</td>\n",
       "      <td>0.33</td>\n",
       "      <td>4.79</td>\n",
       "      <td>-3.01</td>\n",
       "      <td>0.24</td>\n",
       "      <td>-0.48</td>\n",
       "      <td>1.22</td>\n",
       "      <td>1.80</td>\n",
       "      <td>1.17</td>\n",
       "    </tr>\n",
       "    <tr>\n",
       "      <th>...</th>\n",
       "      <td>...</td>\n",
       "      <td>...</td>\n",
       "      <td>...</td>\n",
       "      <td>...</td>\n",
       "      <td>...</td>\n",
       "      <td>...</td>\n",
       "      <td>...</td>\n",
       "      <td>...</td>\n",
       "      <td>...</td>\n",
       "      <td>...</td>\n",
       "      <td>...</td>\n",
       "    </tr>\n",
       "    <tr>\n",
       "      <th>115</th>\n",
       "      <td>-4.00</td>\n",
       "      <td>-1.00</td>\n",
       "      <td>-1.95</td>\n",
       "      <td>-1.83</td>\n",
       "      <td>-0.12</td>\n",
       "      <td>-3.28</td>\n",
       "      <td>-4.21</td>\n",
       "      <td>-3.49</td>\n",
       "      <td>-4.43</td>\n",
       "      <td>-3.66</td>\n",
       "      <td>-2.69</td>\n",
       "    </tr>\n",
       "    <tr>\n",
       "      <th>116</th>\n",
       "      <td>1.94</td>\n",
       "      <td>6.46</td>\n",
       "      <td>5.20</td>\n",
       "      <td>2.03</td>\n",
       "      <td>3.77</td>\n",
       "      <td>4.33</td>\n",
       "      <td>4.46</td>\n",
       "      <td>4.19</td>\n",
       "      <td>1.05</td>\n",
       "      <td>3.83</td>\n",
       "      <td>3.76</td>\n",
       "    </tr>\n",
       "    <tr>\n",
       "      <th>117</th>\n",
       "      <td>4.75</td>\n",
       "      <td>0.72</td>\n",
       "      <td>4.56</td>\n",
       "      <td>4.86</td>\n",
       "      <td>3.80</td>\n",
       "      <td>5.52</td>\n",
       "      <td>5.08</td>\n",
       "      <td>3.47</td>\n",
       "      <td>3.35</td>\n",
       "      <td>3.87</td>\n",
       "      <td>4.17</td>\n",
       "    </tr>\n",
       "    <tr>\n",
       "      <th>118</th>\n",
       "      <td>1.29</td>\n",
       "      <td>1.81</td>\n",
       "      <td>2.95</td>\n",
       "      <td>0.85</td>\n",
       "      <td>3.65</td>\n",
       "      <td>0.27</td>\n",
       "      <td>3.67</td>\n",
       "      <td>4.54</td>\n",
       "      <td>-1.81</td>\n",
       "      <td>4.74</td>\n",
       "      <td>3.12</td>\n",
       "    </tr>\n",
       "    <tr>\n",
       "      <th>119</th>\n",
       "      <td>2.65</td>\n",
       "      <td>1.18</td>\n",
       "      <td>3.13</td>\n",
       "      <td>2.95</td>\n",
       "      <td>4.04</td>\n",
       "      <td>3.96</td>\n",
       "      <td>0.20</td>\n",
       "      <td>0.71</td>\n",
       "      <td>1.79</td>\n",
       "      <td>3.11</td>\n",
       "      <td>2.81</td>\n",
       "    </tr>\n",
       "  </tbody>\n",
       "</table>\n",
       "<p>120 rows × 11 columns</p>\n",
       "</div>"
      ],
      "text/plain": [
       "     NoDur_excess  Durbl_excess  Manuf_excess  Enrgy_excess  HiTec_excess  \\\n",
       "0           -0.01         -1.14         -0.69          0.37          4.46   \n",
       "1            4.19         -0.13          1.89          4.63         -2.98   \n",
       "2           -0.18         -1.24         -0.36         -0.22         -2.64   \n",
       "3            1.34          2.22         -0.25          2.44         -4.99   \n",
       "4           -1.95         -1.70          1.55          0.33          4.79   \n",
       "..            ...           ...           ...           ...           ...   \n",
       "115         -4.00         -1.00         -1.95         -1.83         -0.12   \n",
       "116          1.94          6.46          5.20          2.03          3.77   \n",
       "117          4.75          0.72          4.56          4.86          3.80   \n",
       "118          1.29          1.81          2.95          0.85          3.65   \n",
       "119          2.65          1.18          3.13          2.95          4.04   \n",
       "\n",
       "     Telcm_excess  Shops_excess  Hlth_excess  Utils_excess  Other_excess  \\\n",
       "0            1.34          0.38         3.02          1.85          2.81   \n",
       "1           -0.58          6.03         0.83          2.01          2.10   \n",
       "2           -2.16          0.20        -4.05          1.04         -0.72   \n",
       "3           -0.56         -2.78         3.46         -3.63         -3.84   \n",
       "4           -3.01          0.24        -0.48          1.22          1.80   \n",
       "..            ...           ...          ...           ...           ...   \n",
       "115         -3.28         -4.21        -3.49         -4.43         -3.66   \n",
       "116          4.33          4.46         4.19          1.05          3.83   \n",
       "117          5.52          5.08         3.47          3.35          3.87   \n",
       "118          0.27          3.67         4.54         -1.81          4.74   \n",
       "119          3.96          0.20         0.71          1.79          3.11   \n",
       "\n",
       "     Market_excess  \n",
       "0             2.15  \n",
       "1             1.40  \n",
       "2            -1.32  \n",
       "3            -1.83  \n",
       "4             1.17  \n",
       "..             ...  \n",
       "115          -2.69  \n",
       "116           3.76  \n",
       "117           4.17  \n",
       "118           3.12  \n",
       "119           2.81  \n",
       "\n",
       "[120 rows x 11 columns]"
      ]
     },
     "execution_count": 437,
     "metadata": {},
     "output_type": "execute_result"
    }
   ],
   "source": [
    "excess_risk_df"
   ]
  },
  {
   "cell_type": "code",
   "execution_count": 438,
   "id": "21ae537c",
   "metadata": {},
   "outputs": [
    {
     "data": {
      "text/plain": [
       "array([ 0.29543682, -0.65976326,  0.00494171,  0.38767973, -0.21561205,\n",
       "        0.0822595 ,  0.15829688,  0.16217743,  0.39198016, -0.54851183,\n",
       "       -0.12884985])"
      ]
     },
     "execution_count": 438,
     "metadata": {},
     "output_type": "execute_result"
    }
   ],
   "source": [
    "three_factor_alpha = []\n",
    "for port in excess_risk_df.columns:\n",
    "    regr = linear_model.LinearRegression()\n",
    "    y = excess_risk_df[port]\n",
    "    regr.fit(x, y)\n",
    "    three_factor_alpha.append(regr.intercept_)\n",
    "three_factor_alpha = np.array(three_factor_alpha)\n",
    "three_factor_alpha"
   ]
  },
  {
   "cell_type": "code",
   "execution_count": 441,
   "id": "bcf89d21",
   "metadata": {},
   "outputs": [
    {
     "ename": "TypeError",
     "evalue": "'list' object is not callable",
     "output_type": "error",
     "traceback": [
      "\u001b[1;31m---------------------------------------------------------------------------\u001b[0m",
      "\u001b[1;31mTypeError\u001b[0m                                 Traceback (most recent call last)",
      "\u001b[1;32mc:\\Users\\kilo\\Desktop\\qf600\\assignment_3\\assignment3.ipynb Cell 19\u001b[0m line \u001b[0;36m2\n\u001b[0;32m      <a href='vscode-notebook-cell:/c%3A/Users/kilo/Desktop/qf600/assignment_3/assignment3.ipynb#Y140sZmlsZQ%3D%3D?line=0'>1</a>\u001b[0m result \u001b[39m=\u001b[39m pd\u001b[39m.\u001b[39mDataFrame([\u001b[39mlist\u001b[39m(excess_risk_df\u001b[39m.\u001b[39mcolumns), sharpe, sortino, treynor, jensen_alpha, three_factor_alpha])\u001b[39m.\u001b[39mT\n\u001b[1;32m----> <a href='vscode-notebook-cell:/c%3A/Users/kilo/Desktop/qf600/assignment_3/assignment3.ipynb#Y140sZmlsZQ%3D%3D?line=1'>2</a>\u001b[0m result\u001b[39m.\u001b[39;49mrename(index\u001b[39m=\u001b[39;49m[\u001b[39m'\u001b[39;49m\u001b[39m'\u001b[39;49m])\n",
      "File \u001b[1;32mc:\\Users\\kilo\\anaconda3\\Lib\\site-packages\\pandas\\core\\frame.py:5573\u001b[0m, in \u001b[0;36mDataFrame.rename\u001b[1;34m(self, mapper, index, columns, axis, copy, inplace, level, errors)\u001b[0m\n\u001b[0;32m   5454\u001b[0m \u001b[39mdef\u001b[39;00m \u001b[39mrename\u001b[39m(\n\u001b[0;32m   5455\u001b[0m     \u001b[39mself\u001b[39m,\n\u001b[0;32m   5456\u001b[0m     mapper: Renamer \u001b[39m|\u001b[39m \u001b[39mNone\u001b[39;00m \u001b[39m=\u001b[39m \u001b[39mNone\u001b[39;00m,\n\u001b[1;32m   (...)\u001b[0m\n\u001b[0;32m   5464\u001b[0m     errors: IgnoreRaise \u001b[39m=\u001b[39m \u001b[39m\"\u001b[39m\u001b[39mignore\u001b[39m\u001b[39m\"\u001b[39m,\n\u001b[0;32m   5465\u001b[0m ) \u001b[39m-\u001b[39m\u001b[39m>\u001b[39m DataFrame \u001b[39m|\u001b[39m \u001b[39mNone\u001b[39;00m:\n\u001b[0;32m   5466\u001b[0m \u001b[39m    \u001b[39m\u001b[39m\"\"\"\u001b[39;00m\n\u001b[0;32m   5467\u001b[0m \u001b[39m    Alter axes labels.\u001b[39;00m\n\u001b[0;32m   5468\u001b[0m \n\u001b[1;32m   (...)\u001b[0m\n\u001b[0;32m   5571\u001b[0m \u001b[39m    4  3  6\u001b[39;00m\n\u001b[0;32m   5572\u001b[0m \u001b[39m    \"\"\"\u001b[39;00m\n\u001b[1;32m-> 5573\u001b[0m     \u001b[39mreturn\u001b[39;00m \u001b[39msuper\u001b[39;49m()\u001b[39m.\u001b[39;49m_rename(\n\u001b[0;32m   5574\u001b[0m         mapper\u001b[39m=\u001b[39;49mmapper,\n\u001b[0;32m   5575\u001b[0m         index\u001b[39m=\u001b[39;49mindex,\n\u001b[0;32m   5576\u001b[0m         columns\u001b[39m=\u001b[39;49mcolumns,\n\u001b[0;32m   5577\u001b[0m         axis\u001b[39m=\u001b[39;49maxis,\n\u001b[0;32m   5578\u001b[0m         copy\u001b[39m=\u001b[39;49mcopy,\n\u001b[0;32m   5579\u001b[0m         inplace\u001b[39m=\u001b[39;49minplace,\n\u001b[0;32m   5580\u001b[0m         level\u001b[39m=\u001b[39;49mlevel,\n\u001b[0;32m   5581\u001b[0m         errors\u001b[39m=\u001b[39;49merrors,\n\u001b[0;32m   5582\u001b[0m     )\n",
      "File \u001b[1;32mc:\\Users\\kilo\\anaconda3\\Lib\\site-packages\\pandas\\core\\generic.py:1104\u001b[0m, in \u001b[0;36mNDFrame._rename\u001b[1;34m(self, mapper, index, columns, axis, copy, inplace, level, errors)\u001b[0m\n\u001b[0;32m   1097\u001b[0m         missing_labels \u001b[39m=\u001b[39m [\n\u001b[0;32m   1098\u001b[0m             label\n\u001b[0;32m   1099\u001b[0m             \u001b[39mfor\u001b[39;00m index, label \u001b[39min\u001b[39;00m \u001b[39menumerate\u001b[39m(replacements)\n\u001b[0;32m   1100\u001b[0m             \u001b[39mif\u001b[39;00m indexer[index] \u001b[39m==\u001b[39m \u001b[39m-\u001b[39m\u001b[39m1\u001b[39m\n\u001b[0;32m   1101\u001b[0m         ]\n\u001b[0;32m   1102\u001b[0m         \u001b[39mraise\u001b[39;00m \u001b[39mKeyError\u001b[39;00m(\u001b[39mf\u001b[39m\u001b[39m\"\u001b[39m\u001b[39m{\u001b[39;00mmissing_labels\u001b[39m}\u001b[39;00m\u001b[39m not found in axis\u001b[39m\u001b[39m\"\u001b[39m)\n\u001b[1;32m-> 1104\u001b[0m new_index \u001b[39m=\u001b[39m ax\u001b[39m.\u001b[39;49m_transform_index(f, level\u001b[39m=\u001b[39;49mlevel)\n\u001b[0;32m   1105\u001b[0m result\u001b[39m.\u001b[39m_set_axis_nocheck(new_index, axis\u001b[39m=\u001b[39maxis_no, inplace\u001b[39m=\u001b[39m\u001b[39mTrue\u001b[39;00m, copy\u001b[39m=\u001b[39m\u001b[39mFalse\u001b[39;00m)\n\u001b[0;32m   1106\u001b[0m result\u001b[39m.\u001b[39m_clear_item_cache()\n",
      "File \u001b[1;32mc:\\Users\\kilo\\anaconda3\\Lib\\site-packages\\pandas\\core\\indexes\\base.py:6416\u001b[0m, in \u001b[0;36mIndex._transform_index\u001b[1;34m(self, func, level)\u001b[0m\n\u001b[0;32m   6414\u001b[0m     \u001b[39mreturn\u001b[39;00m \u001b[39mtype\u001b[39m(\u001b[39mself\u001b[39m)\u001b[39m.\u001b[39mfrom_tuples(items, names\u001b[39m=\u001b[39m\u001b[39mself\u001b[39m\u001b[39m.\u001b[39mnames)\n\u001b[0;32m   6415\u001b[0m \u001b[39melse\u001b[39;00m:\n\u001b[1;32m-> 6416\u001b[0m     items \u001b[39m=\u001b[39m [func(x) \u001b[39mfor\u001b[39;49;00m x \u001b[39min\u001b[39;49;00m \u001b[39mself\u001b[39;49m]\n\u001b[0;32m   6417\u001b[0m     \u001b[39mreturn\u001b[39;00m Index(items, name\u001b[39m=\u001b[39m\u001b[39mself\u001b[39m\u001b[39m.\u001b[39mname, tupleize_cols\u001b[39m=\u001b[39m\u001b[39mFalse\u001b[39;00m)\n",
      "File \u001b[1;32mc:\\Users\\kilo\\anaconda3\\Lib\\site-packages\\pandas\\core\\indexes\\base.py:6416\u001b[0m, in \u001b[0;36m<listcomp>\u001b[1;34m(.0)\u001b[0m\n\u001b[0;32m   6414\u001b[0m     \u001b[39mreturn\u001b[39;00m \u001b[39mtype\u001b[39m(\u001b[39mself\u001b[39m)\u001b[39m.\u001b[39mfrom_tuples(items, names\u001b[39m=\u001b[39m\u001b[39mself\u001b[39m\u001b[39m.\u001b[39mnames)\n\u001b[0;32m   6415\u001b[0m \u001b[39melse\u001b[39;00m:\n\u001b[1;32m-> 6416\u001b[0m     items \u001b[39m=\u001b[39m [func(x) \u001b[39mfor\u001b[39;00m x \u001b[39min\u001b[39;00m \u001b[39mself\u001b[39m]\n\u001b[0;32m   6417\u001b[0m     \u001b[39mreturn\u001b[39;00m Index(items, name\u001b[39m=\u001b[39m\u001b[39mself\u001b[39m\u001b[39m.\u001b[39mname, tupleize_cols\u001b[39m=\u001b[39m\u001b[39mFalse\u001b[39;00m)\n",
      "\u001b[1;31mTypeError\u001b[0m: 'list' object is not callable"
     ]
    }
   ],
   "source": [
    "result = pd.DataFrame([sharpe, sortino, treynor, jensen_alpha, three_factor_alpha]).T\n",
    "result.rename(index=[''])"
   ]
  },
  {
   "cell_type": "code",
   "execution_count": null,
   "id": "e3a39fb0",
   "metadata": {},
   "outputs": [],
   "source": []
  }
 ],
 "metadata": {
  "kernelspec": {
   "display_name": "Python 3 (ipykernel)",
   "language": "python",
   "name": "python3"
  },
  "language_info": {
   "codemirror_mode": {
    "name": "ipython",
    "version": 3
   },
   "file_extension": ".py",
   "mimetype": "text/x-python",
   "name": "python",
   "nbconvert_exporter": "python",
   "pygments_lexer": "ipython3",
   "version": "3.11.3"
  }
 },
 "nbformat": 4,
 "nbformat_minor": 5
}
