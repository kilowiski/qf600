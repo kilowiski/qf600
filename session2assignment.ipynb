{
 "cells": [
  {
   "cell_type": "code",
   "execution_count": 143,
   "id": "11e55164",
   "metadata": {},
   "outputs": [],
   "source": [
    "import numpy as np\n",
    "import scipy as sp\n",
    "import math\n",
    "import pandas as pd\n",
    "import matplotlib.pyplot as plt\n"
   ]
  },
  {
   "cell_type": "code",
   "execution_count": 144,
   "id": "ce07a1a2",
   "metadata": {},
   "outputs": [
    {
     "name": "stderr",
     "output_type": "stream",
     "text": [
      "c:\\Users\\kilohp\\AppData\\Local\\Programs\\Python\\Python311\\Lib\\site-packages\\openpyxl\\worksheet\\_reader.py:329: UserWarning: Unknown extension is not supported and will be removed\n",
      "  warn(msg)\n"
     ]
    }
   ],
   "source": [
    "rawdata = pd.read_excel('Industry_Portfolios.xlsx')\n",
    "workdata = rawdata.drop(['Date'],axis =1)"
   ]
  },
  {
   "cell_type": "code",
   "execution_count": 145,
   "id": "136fd34e",
   "metadata": {},
   "outputs": [],
   "source": [
    "R = workdata.mean().to_numpy()\n",
    "V = workdata.cov().to_numpy()\n",
    "stdev = workdata.std()"
   ]
  },
  {
   "cell_type": "code",
   "execution_count": 34,
   "id": "feaeed76",
   "metadata": {},
   "outputs": [],
   "source": [
    "resultdf = pd.concat([workdata.mean(),workdata.std()],axis=1).rename(columns = {0:'mean',1:'std dev'})"
   ]
  },
  {
   "cell_type": "code",
   "execution_count": 148,
   "id": "e03c1d88",
   "metadata": {},
   "outputs": [
    {
     "data": {
      "text/html": [
       "<div>\n",
       "<style scoped>\n",
       "    .dataframe tbody tr th:only-of-type {\n",
       "        vertical-align: middle;\n",
       "    }\n",
       "\n",
       "    .dataframe tbody tr th {\n",
       "        vertical-align: top;\n",
       "    }\n",
       "\n",
       "    .dataframe thead th {\n",
       "        text-align: right;\n",
       "    }\n",
       "</style>\n",
       "<table border=\"1\" class=\"dataframe\">\n",
       "  <thead>\n",
       "    <tr style=\"text-align: right;\">\n",
       "      <th></th>\n",
       "      <th>mean</th>\n",
       "      <th>std dev</th>\n",
       "    </tr>\n",
       "  </thead>\n",
       "  <tbody>\n",
       "    <tr>\n",
       "      <th>NoDur</th>\n",
       "      <td>0.902833</td>\n",
       "      <td>3.345657</td>\n",
       "    </tr>\n",
       "    <tr>\n",
       "      <th>Durbl</th>\n",
       "      <td>0.733333</td>\n",
       "      <td>8.361852</td>\n",
       "    </tr>\n",
       "    <tr>\n",
       "      <th>Manuf</th>\n",
       "      <td>1.012833</td>\n",
       "      <td>5.310270</td>\n",
       "    </tr>\n",
       "    <tr>\n",
       "      <th>Enrgy</th>\n",
       "      <td>1.231167</td>\n",
       "      <td>6.081524</td>\n",
       "    </tr>\n",
       "    <tr>\n",
       "      <th>HiTec</th>\n",
       "      <td>0.766250</td>\n",
       "      <td>5.381191</td>\n",
       "    </tr>\n",
       "    <tr>\n",
       "      <th>Telcm</th>\n",
       "      <td>0.881417</td>\n",
       "      <td>4.448284</td>\n",
       "    </tr>\n",
       "    <tr>\n",
       "      <th>Shops</th>\n",
       "      <td>0.916333</td>\n",
       "      <td>4.093786</td>\n",
       "    </tr>\n",
       "    <tr>\n",
       "      <th>Hlth</th>\n",
       "      <td>0.783833</td>\n",
       "      <td>3.787172</td>\n",
       "    </tr>\n",
       "    <tr>\n",
       "      <th>Utils</th>\n",
       "      <td>0.907167</td>\n",
       "      <td>3.701763</td>\n",
       "    </tr>\n",
       "    <tr>\n",
       "      <th>Other</th>\n",
       "      <td>0.489083</td>\n",
       "      <td>5.582452</td>\n",
       "    </tr>\n",
       "  </tbody>\n",
       "</table>\n",
       "</div>"
      ],
      "text/plain": [
       "           mean   std dev\n",
       "NoDur  0.902833  3.345657\n",
       "Durbl  0.733333  8.361852\n",
       "Manuf  1.012833  5.310270\n",
       "Enrgy  1.231167  6.081524\n",
       "HiTec  0.766250  5.381191\n",
       "Telcm  0.881417  4.448284\n",
       "Shops  0.916333  4.093786\n",
       "Hlth   0.783833  3.787172\n",
       "Utils  0.907167  3.701763\n",
       "Other  0.489083  5.582452"
      ]
     },
     "execution_count": 148,
     "metadata": {},
     "output_type": "execute_result"
    }
   ],
   "source": [
    "resultdf"
   ]
  },
  {
   "cell_type": "code",
   "execution_count": 149,
   "id": "e2e38768",
   "metadata": {},
   "outputs": [],
   "source": [
    "class mva():\n",
    "    def __init__ (self,R,V):\n",
    "        self.R = R #mean\n",
    "        self.V = V #covariance matrix\n",
    "        self.size =\\\n",
    "            len(self.R)\n",
    "        self.V_inv =\\\n",
    "            np.linalg.inv(self.V)\n",
    "        self.alpha =\\\n",
    "            np.dot(np.dot(self.R.T,self.V_inv),np.ones(self.size))\n",
    "        self.zeta =\\\n",
    "            np.dot(np.dot(self.R.T,self.V_inv),self.R)\n",
    "        self.delta =\\\n",
    "            np.dot(np.dot(np.ones(self.size),self.V_inv),np.ones(self.size))\n",
    "        self.R_mv =\\\n",
    "            self.alpha/self.delta\n",
    "    def var_frontier(self,R_p):\n",
    "        return \\\n",
    "            (1/self.delta) + (R_p- self.R_mv)**2 *(self.delta / (self.zeta * self.delta - self.alpha**2))\n",
    "    \n",
    "    def var_riskless(self,R_p,rf):\n",
    "        return \\\n",
    "            ((R_p -rf)**2)/(self.zeta - 2*self.alpha*rf + self.delta * rf**2)\n",
    "    \n",
    "    def weights_calc(self,R_p):\n",
    "        _multiplier_1 = ((self.delta * R_p - self.alpha)/(self.zeta * self.delta - self.alpha ** 2))\n",
    "        _multiplier_2 = ((self.zeta - self.alpha * R_p )/(self.zeta * self.delta - self.alpha ** 2))\n",
    "        return _multiplier_1 * (np.dot(self.V_inv,R)) + _multiplier_2 * (np.dot(self.V_inv,np.ones(self.size)))\n",
    "        \n",
    "    def plot_efficient_frontier(self,R_p_list):\n",
    "        _var_list = []\n",
    "        for x in R_p_list :\n",
    "            _var_list.append(self.var_frontier(x))\n",
    "        plt.plot(np.sqrt(_var_list), R_p_list)\n",
    "\n",
    "    def plot_efficient_frontier_riskless(self,R_p_list,rf):\n",
    "        self.plot_efficient_frontier(R_p_list)\n",
    "        _var_list = []\n",
    "        for x in R_p_list :\n",
    "            _var_list.append(self.var_riskless(x,rf))\n",
    "        plt.plot(np.sqrt(_var_list), R_p_list)\n",
    "            \n",
    "    def tangent_riskless(self, R_p_list,rf):\n",
    "        R_tg = (self.alpha * rf - self.zeta)/(self.delta * rf - self.alpha)\n",
    "        var_tg = (self.zeta - 2 * self.alpha *rf + self.delta * rf**2) / (self.delta ** 2 * (rf- self.R_mv) ** 2)\n",
    "        return {'return': R_tg, 'var':var_tg, 'std_dev': np.sqrt(var_tg)}\n",
    "        "
   ]
  },
  {
   "cell_type": "code",
   "execution_count": 150,
   "id": "9298b118",
   "metadata": {},
   "outputs": [
    {
     "data": {
      "image/png": "[encoded data removed]",
      "text/plain": [
       "<Figure size 640x480 with 1 Axes>"
      ]
     },
     "metadata": {},
     "output_type": "display_data"
    }
   ],
   "source": [
    "newmva = mva(R,V)\n",
    "linspace_input  = np.linspace(0,2,1000)\n",
    "newmva.plot_efficient_frontier(linspace_input)"
   ]
  },
  {
   "cell_type": "code",
   "execution_count": 151,
   "id": "ec5e695c",
   "metadata": {},
   "outputs": [
    {
     "name": "stdout",
     "output_type": "stream",
     "text": [
      "7.2789598622661424\n"
     ]
    }
   ],
   "source": [
    "print(newmva.var_frontier(1))"
   ]
  },
  {
   "cell_type": "code",
   "execution_count": 152,
   "id": "770cf027",
   "metadata": {},
   "outputs": [
    {
     "data": {
      "image/png": "[encoded data removed]",
      "text/plain": [
       "<Figure size 640x480 with 1 Axes>"
      ]
     },
     "metadata": {},
     "output_type": "display_data"
    }
   ],
   "source": [
    "newmva.plot_efficient_frontier_riskless(linspace_input,0.13)"
   ]
  },
  {
   "cell_type": "code",
   "execution_count": 153,
   "id": "4f678a7a",
   "metadata": {},
   "outputs": [
    {
     "data": {
      "text/plain": [
       "{'return': 1.4862735358446917,\n",
       " 'var': 11.294481468962084,\n",
       " 'std_dev': 3.360726330566368}"
      ]
     },
     "execution_count": 153,
     "metadata": {},
     "output_type": "execute_result"
    }
   ],
   "source": [
    "newmva.tangent_riskless(linspace_input,0.13)"
   ]
  },
  {
   "cell_type": "code",
   "execution_count": 154,
   "id": "9fc0c250",
   "metadata": {},
   "outputs": [],
   "source": [
    "tangent_portfolio =\\\n",
    "    pd.DataFrame(newmva.weights_calc(newmva.tangent_riskless(linspace_input,0.13)['return']),index = resultdf.index)\\\n",
    "        .rename(columns = {0:'weights'})"
   ]
  },
  {
   "cell_type": "code",
   "execution_count": 155,
   "id": "d320fe52",
   "metadata": {},
   "outputs": [
    {
     "data": {
      "text/html": [
       "<div>\n",
       "<style scoped>\n",
       "    .dataframe tbody tr th:only-of-type {\n",
       "        vertical-align: middle;\n",
       "    }\n",
       "\n",
       "    .dataframe tbody tr th {\n",
       "        vertical-align: top;\n",
       "    }\n",
       "\n",
       "    .dataframe thead th {\n",
       "        text-align: right;\n",
       "    }\n",
       "</style>\n",
       "<table border=\"1\" class=\"dataframe\">\n",
       "  <thead>\n",
       "    <tr style=\"text-align: right;\">\n",
       "      <th></th>\n",
       "      <th>weights</th>\n",
       "    </tr>\n",
       "  </thead>\n",
       "  <tbody>\n",
       "    <tr>\n",
       "      <th>NoDur</th>\n",
       "      <td>0.567972</td>\n",
       "    </tr>\n",
       "    <tr>\n",
       "      <th>Durbl</th>\n",
       "      <td>-0.214073</td>\n",
       "    </tr>\n",
       "    <tr>\n",
       "      <th>Manuf</th>\n",
       "      <td>0.714105</td>\n",
       "    </tr>\n",
       "    <tr>\n",
       "      <th>Enrgy</th>\n",
       "      <td>0.104087</td>\n",
       "    </tr>\n",
       "    <tr>\n",
       "      <th>HiTec</th>\n",
       "      <td>-0.363438</td>\n",
       "    </tr>\n",
       "    <tr>\n",
       "      <th>Telcm</th>\n",
       "      <td>-0.095463</td>\n",
       "    </tr>\n",
       "    <tr>\n",
       "      <th>Shops</th>\n",
       "      <td>0.991647</td>\n",
       "    </tr>\n",
       "    <tr>\n",
       "      <th>Hlth</th>\n",
       "      <td>0.075570</td>\n",
       "    </tr>\n",
       "    <tr>\n",
       "      <th>Utils</th>\n",
       "      <td>0.132643</td>\n",
       "    </tr>\n",
       "    <tr>\n",
       "      <th>Other</th>\n",
       "      <td>-0.913051</td>\n",
       "    </tr>\n",
       "  </tbody>\n",
       "</table>\n",
       "</div>"
      ],
      "text/plain": [
       "        weights\n",
       "NoDur  0.567972\n",
       "Durbl -0.214073\n",
       "Manuf  0.714105\n",
       "Enrgy  0.104087\n",
       "HiTec -0.363438\n",
       "Telcm -0.095463\n",
       "Shops  0.991647\n",
       "Hlth   0.075570\n",
       "Utils  0.132643\n",
       "Other -0.913051"
      ]
     },
     "execution_count": 155,
     "metadata": {},
     "output_type": "execute_result"
    }
   ],
   "source": [
    "tangent_portfolio"
   ]
  }
 ],
 "metadata": {
  "kernelspec": {
   "display_name": "Python 3 (ipykernel)",
   "language": "python",
   "name": "python3"
  },
  "language_info": {
   "codemirror_mode": {
    "name": "ipython",
    "version": 3
   },
   "file_extension": ".py",
   "mimetype": "text/x-python",
   "name": "python",
   "nbconvert_exporter": "python",
   "pygments_lexer": "ipython3",
   "version": "3.11.5"
  }
 },
 "nbformat": 4,
 "nbformat_minor": 5
}
